{
 "cells": [
  {
   "cell_type": "markdown",
   "metadata": {
    "collapsed": true
   },
   "source": [
    "# Generators"
   ]
  },
  {
   "cell_type": "markdown",
   "metadata": {},
   "source": [
    "### Itérateur\n",
    "\n",
    "An object that has an \\_\\_next\\_\\_ method, that is supposed to return the next element in the collection that the object represents. \n",
    "\n"
   ]
  },
  {
   "cell_type": "code",
   "execution_count": 15,
   "metadata": {},
   "outputs": [
    {
     "name": "stdout",
     "output_type": "stream",
     "text": [
      "1\n",
      "2\n",
      "3\n",
      "Viva l'Algérie !\n"
     ]
    }
   ],
   "source": [
    "class OneTwoThree:\n",
    "    def __init__(self):\n",
    "        self.i = 0\n",
    "                        \n",
    "    def __iter__(self): return self\n",
    "                                \n",
    "    def __next__(self):\n",
    "        self.i += 1\n",
    "        if self.i <= 3:\n",
    "            return self.i\n",
    "        elif self.i == 4:\n",
    "            return \"Viva l'Algérie !\"\n",
    "        else:\n",
    "            raise StopIteration\n",
    "        \n",
    "for i in OneTwoThree():\n",
    "    print(i)"
   ]
  },
  {
   "cell_type": "markdown",
   "metadata": {},
   "source": [
    "### Yield keyword\n",
    "\n",
    "A function that has the `yield` is a generator, when it's colled it won't be runned, the function will really run only when it's being iterated over."
   ]
  },
  {
   "cell_type": "code",
   "execution_count": 16,
   "metadata": {
    "scrolled": true
   },
   "outputs": [
    {
     "name": "stdout",
     "output_type": "stream",
     "text": [
      "1\n",
      "2\n",
      "3\n",
      "Viva l'Algérie !\n"
     ]
    }
   ],
   "source": [
    "def one_two_three():\n",
    "    yield 1\n",
    "    yield 2\n",
    "    yield 3\n",
    "    yield \"Viva l'Algérie !\"\n",
    "\n",
    "for m in one_two_three():\n",
    "    print(m)\n"
   ]
  },
  {
   "cell_type": "markdown",
   "metadata": {},
   "source": [
    "When you call the function a generator object is returned, this object behaves like an itetaros. "
   ]
  },
  {
   "cell_type": "code",
   "execution_count": 17,
   "metadata": {},
   "outputs": [
    {
     "name": "stdout",
     "output_type": "stream",
     "text": [
      "1\n",
      "2\n",
      "3\n",
      "Viva l'Algérie !\n"
     ]
    }
   ],
   "source": [
    "it = one_two_three()\n",
    "\n",
    "print(it.__next__())\n",
    "print(it.__next__())\n",
    "print(it.__next__())\n",
    "print(it.__next__())"
   ]
  },
  {
   "cell_type": "markdown",
   "metadata": {},
   "source": [
    "### Why is this one the best feature of Python ?\n",
    "\n",
    "Because it allows to write tidy code.\n",
    "\n",
    "It also allows to save memory as we don't need to create a collection containing all elements to return, object can be used and then garbage collected. "
   ]
  },
  {
   "cell_type": "code",
   "execution_count": 18,
   "metadata": {},
   "outputs": [],
   "source": [
    "def fibon(n):\n",
    "    a = b = 1\n",
    "    for i in xrange(n):\n",
    "        yield a\n",
    "        a, b = b, a + b"
   ]
  },
  {
   "cell_type": "code",
   "execution_count": 21,
   "metadata": {},
   "outputs": [],
   "source": [
    "def squares(start, stop):\n",
    "    for i in range(start, stop):\n",
    "        yield i * i"
   ]
  },
  {
   "cell_type": "markdown",
   "metadata": {},
   "source": [
    "###### Instread of "
   ]
  },
  {
   "cell_type": "code",
   "execution_count": 20,
   "metadata": {},
   "outputs": [],
   "source": [
    "def fibon(n):\n",
    "    r = []\n",
    "    a = b = 1\n",
    "    for i in xrange(n):\n",
    "        r += [a]\n",
    "        a, b = b, a + b\n",
    "    return r\n",
    "        \n",
    "def squares(start, stop):\n",
    "    r = []\n",
    "    for i in range(start, stop):\n",
    "        r += [i * i]\n",
    "    return r\n"
   ]
  },
  {
   "cell_type": "markdown",
   "metadata": {},
   "source": [
    "We can also describe infinite stream elegantly."
   ]
  },
  {
   "cell_type": "code",
   "execution_count": 23,
   "metadata": {},
   "outputs": [
    {
     "name": "stdout",
     "output_type": "stream",
     "text": [
      "1\n",
      "2\n",
      "3\n",
      "1\n",
      "2\n",
      "3\n",
      "1\n",
      "2\n",
      "3\n",
      "1\n"
     ]
    }
   ],
   "source": [
    "def cycle(l):\n",
    "    while True:\n",
    "        for e in l:\n",
    "            yield e\n",
    "i = 0      \n",
    "for e in cycle([1, 2, 3]):\n",
    "    print(e)\n",
    "    i += 1\n",
    "    if i == 10:\n",
    "        break;\n"
   ]
  },
  {
   "cell_type": "markdown",
   "metadata": {},
   "source": [
    "Here we avoid creating a list containg three huge elements. "
   ]
  },
  {
   "cell_type": "code",
   "execution_count": null,
   "metadata": {},
   "outputs": [
    {
     "ename": "",
     "evalue": "",
     "output_type": "error",
     "traceback": [
      "\u001b[1;31mRunning cells with 'Python 3.7.2 ('.venv': venv)' requires ipykernel package.\n",
      "\u001b[1;31mRun the following command to install 'ipykernel' into the Python environment. \n",
      "\u001b[1;31mCommand: '/home/anis/Projects/coolpythonfeatures/.venv/bin/python -m pip install ipykernel -U --force-reinstall'"
     ]
    }
   ],
   "source": [
    "def huge_lists():\n",
    "    yield [0] * 800000000\n",
    "    yield [1] * 800000000\n",
    "    yield [2] * 800000000\n",
    "\n",
    "for l in huge_lists():\n",
    "    print(len(l))"
   ]
  },
  {
   "cell_type": "markdown",
   "metadata": {},
   "source": [
    "You see that if we put them in a list instead we are more likely to have a memory error. "
   ]
  },
  {
   "cell_type": "code",
   "execution_count": 29,
   "metadata": {},
   "outputs": [
    {
     "ename": "MemoryError",
     "evalue": "",
     "output_type": "error",
     "traceback": [
      "\u001b[0;31m---------------------------------------------------------------------------\u001b[0m",
      "\u001b[0;31mMemoryError\u001b[0m                               Traceback (most recent call last)",
      "\u001b[0;32m<ipython-input-29-546663f25ef3>\u001b[0m in \u001b[0;36m<module>\u001b[0;34m\u001b[0m\n\u001b[1;32m      6\u001b[0m     ]\n\u001b[1;32m      7\u001b[0m \u001b[0;34m\u001b[0m\u001b[0m\n\u001b[0;32m----> 8\u001b[0;31m \u001b[0;32mfor\u001b[0m \u001b[0ml\u001b[0m \u001b[0;32min\u001b[0m \u001b[0mhuge_lists\u001b[0m\u001b[0;34m(\u001b[0m\u001b[0;34m)\u001b[0m\u001b[0;34m:\u001b[0m\u001b[0;34m\u001b[0m\u001b[0;34m\u001b[0m\u001b[0m\n\u001b[0m\u001b[1;32m      9\u001b[0m     \u001b[0mprint\u001b[0m\u001b[0;34m(\u001b[0m\u001b[0mlen\u001b[0m\u001b[0;34m(\u001b[0m\u001b[0ml\u001b[0m\u001b[0;34m)\u001b[0m\u001b[0;34m)\u001b[0m\u001b[0;34m\u001b[0m\u001b[0;34m\u001b[0m\u001b[0m\n",
      "\u001b[0;32m<ipython-input-29-546663f25ef3>\u001b[0m in \u001b[0;36mhuge_lists\u001b[0;34m()\u001b[0m\n\u001b[1;32m      2\u001b[0m     return [\n\u001b[1;32m      3\u001b[0m         \u001b[0;34m[\u001b[0m\u001b[0;36m0\u001b[0m\u001b[0;34m]\u001b[0m \u001b[0;34m*\u001b[0m \u001b[0;36m800000000\u001b[0m\u001b[0;34m,\u001b[0m\u001b[0;34m\u001b[0m\u001b[0;34m\u001b[0m\u001b[0m\n\u001b[0;32m----> 4\u001b[0;31m         \u001b[0;34m[\u001b[0m\u001b[0;36m1\u001b[0m\u001b[0;34m]\u001b[0m \u001b[0;34m*\u001b[0m \u001b[0;36m800000000\u001b[0m\u001b[0;34m,\u001b[0m\u001b[0;34m\u001b[0m\u001b[0;34m\u001b[0m\u001b[0m\n\u001b[0m\u001b[1;32m      5\u001b[0m         \u001b[0;34m[\u001b[0m\u001b[0;36m2\u001b[0m\u001b[0;34m]\u001b[0m \u001b[0;34m*\u001b[0m \u001b[0;36m800000000\u001b[0m\u001b[0;34m\u001b[0m\u001b[0;34m\u001b[0m\u001b[0m\n\u001b[1;32m      6\u001b[0m     ]\n",
      "\u001b[0;31mMemoryError\u001b[0m: "
     ]
    }
   ],
   "source": [
    "def huge_lists():\n",
    "    return [\n",
    "        [0] * 800000000,\n",
    "        [1] * 800000000,\n",
    "        [2] * 800000000\n",
    "    ]\n",
    "\n",
    "for l in huge_lists():\n",
    "    print(len(l))"
   ]
  },
  {
   "cell_type": "code",
   "execution_count": null,
   "metadata": {},
   "outputs": [],
   "source": []
  }
 ],
 "metadata": {
  "kernelspec": {
   "display_name": "Python 3.7.2 ('.venv': venv)",
   "language": "python",
   "name": "python3"
  },
  "language_info": {
   "codemirror_mode": {
    "name": "ipython",
    "version": 3
   },
   "file_extension": ".py",
   "mimetype": "text/x-python",
   "name": "python",
   "nbconvert_exporter": "python",
   "pygments_lexer": "ipython3",
   "version": "3.7.2"
  },
  "vscode": {
   "interpreter": {
    "hash": "5fe59740bba3e965452b12d0c1e59825655adc80e00d056415b272f0fa45618b"
   }
  }
 },
 "nbformat": 4,
 "nbformat_minor": 1
}
