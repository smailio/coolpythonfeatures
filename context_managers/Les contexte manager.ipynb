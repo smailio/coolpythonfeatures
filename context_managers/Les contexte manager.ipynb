{
 "cells": [
  {
   "cell_type": "markdown",
   "metadata": {},
   "source": [
    "# Les context managers\n",
    "\n",
    "###### Un code trés commun\n",
    "```python\n",
    "def truc():\n",
    "    print(\"machin\")\n",
    "\n",
    "print(\"Avant\")\n",
    "try:\n",
    "    truc()\n",
    "finally:\n",
    "    print(\"Après\")\n",
    "```\n",
    "\n",
    "Si on se retrouve à ré-écrire tout le temps print(\"Avant\") et print(\"Aprés\")\n",
    "ça peut valoir le coup de factoriser ce code. \n",
    "\n",
    "###### Bon OK, on peu résoudre ça avec des décorateurs\n",
    "\n",
    "\n"
   ]
  },
  {
   "cell_type": "code",
   "execution_count": 2,
   "metadata": {},
   "outputs": [
    {
     "name": "stdout",
     "output_type": "stream",
     "text": [
      "Avant\n",
      "machin\n",
      "Aprés\n"
     ]
    }
   ],
   "source": [
    "def printAvantApres(f):\n",
    "    def wrapper():\n",
    "        print(\"Avant\")\n",
    "        try:\n",
    "            f()\n",
    "        finally:\n",
    "            print(\"Aprés\")\n",
    "    return wrapper\n",
    "\n",
    "@printAvantApres\n",
    "def truc():\n",
    "    print(\"machin\")\n",
    "\n",
    "truc()"
   ]
  },
  {
   "cell_type": "markdown",
   "metadata": {},
   "source": [
    "Le truc c'est que des fois on aimerait bien ne pas enrober notre code dans une fonction \n",
    "juste pour pouvoir la décorer. Vous imaginez devoir faire ça à chaque fois qu'on lit un fichier ? \n",
    "\n",
    "```python\n",
    "def inject_config_file(f):\n",
    "    file = open('config_file_path')\n",
    "    try:\n",
    "        f(file)\n",
    "    finally:\n",
    "        file.close()\n",
    "    \n",
    "    \n",
    "@inject_config_file\n",
    "def do_stuff(config_file):\n",
    "    print(config_file)\n",
    "```\n",
    "\n",
    "En Python y a le keyword *with* si vous avez déjà ouvert un fichier en Python j'espere que vous \n",
    "l'avez fait comme ça : \n",
    "\n",
    "```python\n",
    "with open('config_file_path') as f:\n",
    "    print(f)\n",
    "```\n",
    "\n",
    "- open se comporte à la foic comme une fonction et comme un *context manager*\n",
    "- au début du bloc il ouvre un fichier qui devient accessible à travers la variable f\n",
    "- à la fin du bloc il ferme le fichier, peu importe ce qu'il s'est passé dans le bloc, càd que si une exception a été levée le fichier sera quand même fermé \n",
    "\n",
    "Heuresement qu'on a ce keyword, en Python si on avait juste la fonction les dev \n",
    "auraient la flemme de faire un try finally, et encore plus la flemme \n",
    "d'enrober leur code dans des fonctions et d'utiliser les décorateurs,\n",
    "on vivrait dans un monde où les ressources ne sont jamais fermés et la qualité moyenne des \n",
    "codes  serait bien plus basse qu'elle ne l'est aujourd'hui.     \n",
    "\n",
    "\n",
    "##### Un contexte manager ressemble à ça \n",
    "\n",
    "C'est une classe où sont définit les methodés \\_\\_enter\\_\\_ et \\_\\_exit\\_\\_\n"
   ]
  },
  {
   "cell_type": "code",
   "execution_count": 3,
   "metadata": {},
   "outputs": [
    {
     "name": "stdout",
     "output_type": "stream",
     "text": [
      "Avant\n",
      "Faire des trucs\n",
      "Après\n"
     ]
    }
   ],
   "source": [
    "class MonSuperContextManager:\n",
    "    def __enter__(self):\n",
    "        print(\"Avant\")\n",
    "        \n",
    "    def __exit__(self, type, value, traceback):\n",
    "        # faites pas attention aux paramètres, ce sont toutes les infos\n",
    "        # automatiquement passées à __exit__ et qui servent pour inspecter\n",
    "        # une éventuelle exception\n",
    "        print(\"Après\")\n",
    "\n",
    "with MonSuperContextManager():\n",
    "    print(\"Faire des trucs\")\n"
   ]
  },
  {
   "cell_type": "markdown",
   "metadata": {},
   "source": [
    "##### Ce qui se passe : \n",
    "- MonSuperContextManager enrobe un bloc de code\n",
    "- avant d'éxécuter le bloc de code enrobé Python appel __enter__\n",
    "- aprés avoir éxécuter le bloc de code enrobé Python appel __exit__"
   ]
  },
  {
   "cell_type": "code",
   "execution_count": null,
   "metadata": {},
   "outputs": [],
   "source": []
  }
 ],
 "metadata": {
  "kernelspec": {
   "display_name": "Python 3.7.2 ('.venv': venv)",
   "language": "python",
   "name": "python3"
  },
  "language_info": {
   "codemirror_mode": {
    "name": "ipython",
    "version": 3
   },
   "file_extension": ".py",
   "mimetype": "text/x-python",
   "name": "python",
   "nbconvert_exporter": "python",
   "pygments_lexer": "ipython3",
   "version": "3.7.2"
  },
  "vscode": {
   "interpreter": {
    "hash": "5fe59740bba3e965452b12d0c1e59825655adc80e00d056415b272f0fa45618b"
   }
  }
 },
 "nbformat": 4,
 "nbformat_minor": 2
}
