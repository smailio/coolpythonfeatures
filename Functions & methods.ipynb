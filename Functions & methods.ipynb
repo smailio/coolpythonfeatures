{
 "cells": [
  {
   "cell_type": "markdown",
   "metadata": {},
   "source": [
    "## Functions & methods \n",
    "\n",
    "All functions are non-data descriptors which return bound methods when they are invoked from an object\n"
   ]
  },
  {
   "cell_type": "code",
   "execution_count": 17,
   "metadata": {
    "scrolled": true
   },
   "outputs": [
    {
     "name": "stdout",
     "output_type": "stream",
     "text": [
      "<method-wrapper '__get__' of function object at 0x00000220EE034D90>\n"
     ]
    }
   ],
   "source": [
    "def hello_world():\n",
    "    print(\"hello world\")\n",
    "    \n",
    "print(hello_world.__get__)"
   ]
  },
  {
   "cell_type": "markdown",
   "metadata": {},
   "source": [
    "Yo see, functions are object and they have a \\_\\_get\\_\\_ function. \n",
    "\n",
    "\n",
    "### Function are object\n",
    "\n",
    "This is roughly  the implementation of the \\_\\_get\\_\\_ method.\n",
    "\n",
    "```python\n",
    "class Function(object):\n",
    "    def __get__(self, obj, objtype=None):\n",
    "        \"Simulate func_descr_get() in Objects/funcobject.c\"\n",
    "        if obj is None:\n",
    "            return self\n",
    "        return types.MethodType(self, obj)\n",
    "```"
   ]
  },
  {
   "cell_type": "code",
   "execution_count": 18,
   "metadata": {
    "scrolled": true
   },
   "outputs": [
    {
     "name": "stdout",
     "output_type": "stream",
     "text": [
      "<method-wrapper '__get__' of function object at 0x00000220EE034840>\n",
      "<bound method A.foo of <__main__.A object at 0x00000220EE051630>>\n"
     ]
    }
   ],
   "source": [
    "class A:\n",
    "    def foo(self):\n",
    "        print(self)\n",
    "        \n",
    "    print(foo.__get__)\n",
    "print(A().foo)"
   ]
  },
  {
   "cell_type": "markdown",
   "metadata": {},
   "source": [
    "Above you see that foo has a \\_\\_get\\_\\_ function and when it's accessed through an instance of A, its  \\_\\_get\\_\\_ function is called and returns an instance of MethodType wrapping the foo function (bound method). \n",
    "\n",
    "Bellow is last week's implementation of @staticmethod, back then we didn't understand why this was working. "
   ]
  },
  {
   "cell_type": "code",
   "execution_count": 22,
   "metadata": {},
   "outputs": [
    {
     "name": "stdout",
     "output_type": "stream",
     "text": [
      "__init__ receive <function B.foo at 0x00000220EE056488>\n",
      "__get__ returns <function B.foo at 0x00000220EE056488>\n",
      "B().foo : <function B.foo at 0x00000220EE056488>\n",
      "__get__ returns <function B.foo at 0x00000220EE056488>\n",
      "hello\n"
     ]
    }
   ],
   "source": [
    "class static:\n",
    "    def __init__(self, f):\n",
    "        print(f\"__init__ receive {f}\")\n",
    "        self.f = f\n",
    "    \n",
    "    def __get__(self, o, c):\n",
    "        print(f\"__get__ returns {self.f}\")\n",
    "        return self.f\n",
    "\n",
    "class B:\n",
    "    @static\n",
    "    def foo(message):\n",
    "        print(message)\n",
    "        \n",
    "print(f\"B().foo : {B().foo}\")\n",
    "B.foo(\"hello\")"
   ]
  },
  {
   "cell_type": "markdown",
   "metadata": {},
   "source": [
    "### Same code than above but step by step"
   ]
  },
  {
   "cell_type": "code",
   "execution_count": null,
   "metadata": {
    "scrolled": true
   },
   "outputs": [
    {
     "name": "stdout",
     "output_type": "stream",
     "text": [
      "__init__ receive <function foo at 0x00000220EE034B70>\n",
      "__get__ returns <function foo at 0x00000220EE034B70>\n",
      "B().foo : <function foo at 0x00000220EE034B70>\n",
      "__get__ returns <function foo at 0x00000220EE034B70>\n",
      "hello\n"
     ]
    }
   ],
   "source": [
    "class static:\n",
    "    def __init__(self, f):\n",
    "        print(f\"__init__ receive {f}\")\n",
    "        self.f = f\n",
    "    \n",
    "    def __get__(self, o, c):\n",
    "        print(f\"__get__ returns {self.f}\")\n",
    "        return self.f\n",
    "\n",
    "def foo(message):\n",
    "    print(message)\n",
    "\n",
    "class B:\n",
    "    pass\n",
    "\n",
    "static_foo = static(foo)\n",
    "\n",
    "B.foo = static_foo\n",
    "\n",
    "print(f\"B().foo : {B().foo}\")\n",
    "print(f\"B.foo : {B.foo}\")\n",
    "B.foo(\"hello\")"
   ]
  },
  {
   "cell_type": "markdown",
   "metadata": {},
   "source": [
    "What we actually do with static is that we wrap a descriptor in another descriptor. The \\_\\_get\\_\\_ method of static is called but not the one of foo, as it's not directly accessed as an attribute but is merely returned from static.\\_\\_get\\_\\_. \n",
    "\n",
    "Here's what happen when we do `B().foo()`\n",
    "\n",
    "- foo is accessed through an instance of B, and B.foo == static_foo\n",
    "- static_foo is a descriptior so static_foo.\\_\\_get__ is called\n",
    "- static_foo.\\_\\_get__ return foo\n",
    "\n",
    "here even if foo is a descriptor it's not accessed *directly* as an attribute through an object so the descriptor protocol is not applied and it's called normaly. \n",
    "\n",
    "You may say \"but in static_foo.\\_\\_get__ it's accessed through self which is an object\", indeed, but foo isn't a class attribute of self, descriptor protocol is applied to class attributes accessed through an instance. \n"
   ]
  },
  {
   "cell_type": "code",
   "execution_count": null,
   "metadata": {},
   "outputs": [],
   "source": []
  }
 ],
 "metadata": {
  "kernelspec": {
   "display_name": "Python 3.8.14 64-bit",
   "language": "python",
   "name": "python3"
  },
  "language_info": {
   "codemirror_mode": {
    "name": "ipython",
    "version": 3
   },
   "file_extension": ".py",
   "mimetype": "text/x-python",
   "name": "python",
   "nbconvert_exporter": "python",
   "pygments_lexer": "ipython3",
   "version": "3.8.14"
  },
  "vscode": {
   "interpreter": {
    "hash": "df0893f56f349688326838aaeea0de204df53a132722cbd565e54b24a8fec5f6"
   }
  }
 },
 "nbformat": 4,
 "nbformat_minor": 2
}
